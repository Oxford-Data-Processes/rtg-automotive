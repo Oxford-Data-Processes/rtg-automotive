{
 "cells": [
  {
   "cell_type": "code",
   "execution_count": 7,
   "metadata": {},
   "outputs": [],
   "source": [
    "import pandas as pd\n",
    "\n",
    "def process_inventory_data(inventory_df, days=7):\n",
    "    # Convert timestamp to datetime\n",
    "    inventory_df['timestamp'] = pd.to_datetime(inventory_df['timestamp'])\n",
    "\n",
    "    # Filter for dates in the past week\n",
    "    one_week_ago = pd.Timestamp.now() - pd.Timedelta(days=days)\n",
    "    inventory_df = inventory_df[inventory_df['timestamp'] >= one_week_ago]\n",
    "\n",
    "    # Sort the filtered data\n",
    "    inventory_df.sort_values(by=['supplier', 'code', 'timestamp'], inplace=True)\n",
    "\n",
    "    # Group by supplier and code\n",
    "    grouped_df = inventory_df.groupby(['supplier', 'code'])\n",
    "\n",
    "    # Calculate the net delta\n",
    "    net_delta_df = grouped_df.agg(\n",
    "        start_stock=('stock_calculation', 'first'),\n",
    "        end_stock=('stock_calculation', 'last'),\n",
    "        start_date=('timestamp', 'first'),\n",
    "        end_date=('timestamp', 'last')\n",
    "    ).reset_index()\n",
    "\n",
    "    # Calculate the delta\n",
    "    net_delta_df['change'] = net_delta_df['end_stock'] - net_delta_df['start_stock']\n",
    "\n",
    "    # Select relevant columns for the final table\n",
    "    final_df = net_delta_df[['supplier', 'code', 'start_date', 'end_date', 'change']]\n",
    "\n",
    "    return final_df\n"
   ]
  },
  {
   "cell_type": "code",
   "execution_count": null,
   "metadata": {},
   "outputs": [],
   "source": []
  }
 ],
 "metadata": {
  "kernelspec": {
   "display_name": "venv",
   "language": "python",
   "name": "python3"
  },
  "language_info": {
   "codemirror_mode": {
    "name": "ipython",
    "version": 3
   },
   "file_extension": ".py",
   "mimetype": "text/x-python",
   "name": "python",
   "nbconvert_exporter": "python",
   "pygments_lexer": "ipython3",
   "version": "3.11.5"
  }
 },
 "nbformat": 4,
 "nbformat_minor": 2
}
