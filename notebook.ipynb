{
 "cells": [
  {
   "cell_type": "code",
   "execution_count": 1,
   "metadata": {},
   "outputs": [
    {
     "data": {
      "text/plain": [
       "253594"
      ]
     },
     "execution_count": 1,
     "metadata": {},
     "output_type": "execute_result"
    }
   ],
   "source": [
    "import pandas as pd\n",
    "from sqlalchemy import create_engine\n",
    "\n",
    "def create_mysql_engine(user, password, host, port, database):\n",
    "    \"\"\"\n",
    "    Create and return a SQLAlchemy engine for MySQL connection.\n",
    "\n",
    "    Args:\n",
    "    user (str): MySQL username\n",
    "    password (str): MySQL password\n",
    "    host (str): MySQL host address\n",
    "    port (str): MySQL port number\n",
    "    database (str): MySQL database name\n",
    "\n",
    "    Returns:\n",
    "    sqlalchemy.engine.base.Engine: SQLAlchemy engine object\n",
    "    \"\"\"\n",
    "    # Create a SQLAlchemy engine\n",
    "    engine = create_engine(f'mysql+mysqlconnector://{user}:{password}@{host}:{port}/{database}')\n",
    "    return engine\n",
    "\n",
    "# Usage example:\n",
    "engine = create_mysql_engine('admin', 'password', 'rtg-automotive-db.c14oos6givty.eu-west-2.rds.amazonaws.com', '3306', 'rtg_automotive')\n",
    "\n",
    "# product = pd.read_csv(\"product_df.csv\")\n",
    "# product.to_sql('product', con=engine, if_exists='replace', index=False)"
   ]
  },
  {
   "cell_type": "code",
   "execution_count": null,
   "metadata": {},
   "outputs": [],
   "source": []
  },
  {
   "cell_type": "code",
   "execution_count": null,
   "metadata": {},
   "outputs": [],
   "source": []
  }
 ],
 "metadata": {
  "kernelspec": {
   "display_name": "venv",
   "language": "python",
   "name": "python3"
  },
  "language_info": {
   "codemirror_mode": {
    "name": "ipython",
    "version": 3
   },
   "file_extension": ".py",
   "mimetype": "text/x-python",
   "name": "python",
   "nbconvert_exporter": "python",
   "pygments_lexer": "ipython3",
   "version": "3.11.5"
  }
 },
 "nbformat": 4,
 "nbformat_minor": 2
}
